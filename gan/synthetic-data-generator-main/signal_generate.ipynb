{
 "cells": [
  {
   "cell_type": "code",
   "execution_count": 1,
   "metadata": {},
   "outputs": [
    {
     "name": "stderr",
     "output_type": "stream",
     "text": [
      "2023-01-18 14:33:54.514736: I tensorflow/core/platform/cpu_feature_guard.cc:193] This TensorFlow binary is optimized with oneAPI Deep Neural Network Library (oneDNN) to use the following CPU instructions in performance-critical operations:  AVX2 FMA\n",
      "To enable them in other operations, rebuild TensorFlow with the appropriate compiler flags.\n",
      "2023-01-18 14:33:55.303605: W tensorflow/compiler/xla/stream_executor/platform/default/dso_loader.cc:64] Could not load dynamic library 'libcudart.so.11.0'; dlerror: libcudart.so.11.0: cannot open shared object file: No such file or directory\n",
      "2023-01-18 14:33:55.303668: I tensorflow/compiler/xla/stream_executor/cuda/cudart_stub.cc:29] Ignore above cudart dlerror if you do not have a GPU set up on your machine.\n",
      "2023-01-18 14:33:57.943273: W tensorflow/compiler/xla/stream_executor/platform/default/dso_loader.cc:64] Could not load dynamic library 'libnvinfer.so.7'; dlerror: libnvinfer.so.7: cannot open shared object file: No such file or directory\n",
      "2023-01-18 14:33:57.943549: W tensorflow/compiler/xla/stream_executor/platform/default/dso_loader.cc:64] Could not load dynamic library 'libnvinfer_plugin.so.7'; dlerror: libnvinfer_plugin.so.7: cannot open shared object file: No such file or directory\n",
      "2023-01-18 14:33:57.943576: W tensorflow/compiler/tf2tensorrt/utils/py_utils.cc:38] TF-TRT Warning: Cannot dlopen some TensorRT libraries. If you would like to use Nvidia GPU with TensorRT, please make sure the missing libraries mentioned above are installed properly.\n"
     ]
    }
   ],
   "source": [
    "from numpy.random import randn\n",
    "from keras.models import Sequential\n",
    "from keras.layers import Dense\n",
    "from matplotlib import pyplot\n",
    "import numpy as np\n",
    "from numpy import hstack\n",
    "from numpy import zeros\n",
    "from keras.backend import clear_session\n",
    "import pandas as pd\n",
    "import keras.backend as k1\n",
    "from sklearn.preprocessing import MinMaxScaler\n",
    "\n",
    "from sklearn import preprocessing\n",
    "from numpy import ones\n",
    "from numpy.random import rand\n",
    "from numpy.random import randn\n",
    "from keras.models import Sequential\n",
    "from keras.layers import Dense,Input,Conv1D,LSTM,LeakyReLU,Permute,UpSampling1D,Bidirectional,MaxPool1D,Flatten\n",
    "from matplotlib import pyplot\n",
    "import pickle"
   ]
  },
  {
   "cell_type": "code",
   "execution_count": 4,
   "metadata": {},
   "outputs": [
    {
     "ename": "FileNotFoundError",
     "evalue": "[Errno 2] No such file or directory: './data/00001.npy'",
     "output_type": "error",
     "traceback": [
      "\u001b[0;31m---------------------------------------------------------------------------\u001b[0m",
      "\u001b[0;31mFileNotFoundError\u001b[0m                         Traceback (most recent call last)",
      "Cell \u001b[0;32mIn[4], line 6\u001b[0m\n\u001b[1;32m      2\u001b[0m \u001b[39mimport\u001b[39;00m \u001b[39mmatplotlib\u001b[39;00m\u001b[39m.\u001b[39;00m\u001b[39mpyplot\u001b[39;00m \u001b[39mas\u001b[39;00m \u001b[39mplt\u001b[39;00m\n\u001b[1;32m      3\u001b[0m \u001b[39mfrom\u001b[39;00m \u001b[39mmatplotlib\u001b[39;00m\u001b[39m.\u001b[39;00m\u001b[39mwidgets\u001b[39;00m \u001b[39mimport\u001b[39;00m Button\n\u001b[0;32m----> 6\u001b[0m arr \u001b[39m=\u001b[39m np\u001b[39m.\u001b[39;49mload(\u001b[39m'\u001b[39;49m\u001b[39m./data/00001.npy\u001b[39;49m\u001b[39m'\u001b[39;49m)\n\u001b[1;32m      8\u001b[0m \u001b[39mprint\u001b[39m(arr\u001b[39m.\u001b[39mshape)\n\u001b[1;32m      9\u001b[0m fixed \u001b[39m=\u001b[39m []\n",
      "File \u001b[0;32m~/.local/lib/python3.8/site-packages/numpy/lib/npyio.py:417\u001b[0m, in \u001b[0;36mload\u001b[0;34m(file, mmap_mode, allow_pickle, fix_imports, encoding)\u001b[0m\n\u001b[1;32m    415\u001b[0m     own_fid \u001b[39m=\u001b[39m \u001b[39mFalse\u001b[39;00m\n\u001b[1;32m    416\u001b[0m \u001b[39melse\u001b[39;00m:\n\u001b[0;32m--> 417\u001b[0m     fid \u001b[39m=\u001b[39m stack\u001b[39m.\u001b[39menter_context(\u001b[39mopen\u001b[39;49m(os_fspath(file), \u001b[39m\"\u001b[39;49m\u001b[39mrb\u001b[39;49m\u001b[39m\"\u001b[39;49m))\n\u001b[1;32m    418\u001b[0m     own_fid \u001b[39m=\u001b[39m \u001b[39mTrue\u001b[39;00m\n\u001b[1;32m    420\u001b[0m \u001b[39m# Code to distinguish from NumPy binary files and pickles.\u001b[39;00m\n",
      "\u001b[0;31mFileNotFoundError\u001b[0m: [Errno 2] No such file or directory: './data/00001.npy'"
     ]
    }
   ],
   "source": [
    "import numpy as np\n",
    "import matplotlib.pyplot as plt\n",
    "from matplotlib.widgets import Button\n",
    "\n",
    "\n",
    "arr = np.load('./data/00001.npy')\n",
    "\n",
    "print(arr.shape)\n",
    "fixed = []\n",
    "# lead = 4\n",
    "plt.subplots_adjust(bottom=0.2)\n",
    "l, = plt.plot(arr[0])\n",
    "\n",
    "but_len = Button(plt.axes([0.2, 0.9, 0.2, 0.075]), 'len 0')\n",
    "but_left = Button(plt.axes([0.6, 0.9, 0.2, 0.075]), 'left '+str(arr.shape[0]))\n",
    "\n",
    "\n",
    "class Index(object):\n",
    "    ind = 0\n",
    "\n",
    "    def ok(self, event):\n",
    "        fixed.append(arr[self.ind])\n",
    "        self.ind += 1\n",
    "        but_len.label.set_text('len ' + str(len(fixed)))\n",
    "        but_left.label.set_text('left ' + str(arr.shape[0]-self.ind))\n",
    "        l.set_ydata(arr[self.ind])\n",
    "        plt.draw()\n",
    "\n",
    "    def not_ok(self, event):\n",
    "        self.ind += 1\n",
    "        but_len.label.set_text('len ' + str(len(fixed)))\n",
    "        but_left.label.set_text('left ' + str(arr.shape[0]-self.ind))\n",
    "        l.set_ydata(arr[self.ind])\n",
    "        plt.draw()\n",
    "\n",
    "    def prev(self, event):\n",
    "        fixed.pop()\n",
    "        self.ind -= 1\n",
    "        but_len.label.set_text('len ' + str(len(fixed)))\n",
    "        but_left.label.set_text('left ' + str(arr.shape[0]-self.ind))\n",
    "        l.set_ydata(arr[self.ind])\n",
    "        plt.draw()\n",
    "\n",
    "\n",
    "callback = Index()\n",
    "but_ok = Button(plt.axes([0.80, 0.05, 0.12, 0.075]), 'OK')\n",
    "but_not_ok = Button(plt.axes([0.40, 0.05, 0.12, 0.075]), 'NOT OK')\n",
    "but_prev = Button(plt.axes([0.20, 0.05, 0.12, 0.075]), 'PREV')\n",
    "\n",
    "but_ok.on_clicked(callback.ok)\n",
    "but_not_ok.on_clicked(callback.not_ok)\n",
    "but_prev.on_clicked(callback.prev)\n",
    "\n",
    "plt.show()\n",
    "\n",
    "res_arr = np.array(fixed)\n",
    "print(res_arr.shape)\n",
    "\n",
    "np.save('fixed.npy', res_arr)"
   ]
  },
  {
   "cell_type": "code",
   "execution_count": 52,
   "metadata": {},
   "outputs": [
    {
     "name": "stdout",
     "output_type": "stream",
     "text": [
      "(400,)\n",
      "(1, 400)\n",
      "(400,)\n",
      "(1, 400)\n",
      "(400,)\n",
      "(1, 400)\n",
      "(400,)\n",
      "(1, 400)\n",
      "(400,)\n",
      "(1, 400)\n",
      "(400,)\n",
      "(1, 400)\n",
      "(400,)\n",
      "(1, 400)\n",
      "(400,)\n",
      "(1, 400)\n",
      "(400,)\n",
      "(1, 400)\n",
      "(400,)\n",
      "(1, 400)\n",
      "(400,)\n",
      "(1, 400)\n",
      "(400,)\n",
      "(1, 400)\n",
      "(12, 1, 400)\n"
     ]
    }
   ],
   "source": [
    "\"\"\"\n",
    "from glob import glob\n",
    "data=glob(\"./data/*\")\n",
    "print(len(data))\n",
    "print(len(data[:400]))\n",
    "extract=[]\n",
    "for i in data[:400]:\n",
    "    data_read=np.load(i)\n",
    "    extract.append(data_read)\n",
    "extract=np.array(extract)\n",
    "print(extract.shape)\n",
    "extract=extract.reshape(12000,400)\n",
    "print(extract.shape)\n",
    "\"\"\"\n",
    "extract=[]\n",
    "data=pd.read_csv(\"data.csv\")\n",
    "\n",
    "for i in data.columns:\n",
    "    i1=data[i][:400]\n",
    "    print(i1.shape)\n",
    "    i1=np.array(i1)\n",
    "    data1=i1.reshape(1,400)\n",
    "    print(data1.shape)\n",
    "    extract.append(data1)\n",
    "extract=np.array(extract)\n",
    "print(extract.shape)"
   ]
  },
  {
   "cell_type": "code",
   "execution_count": 2,
   "metadata": {},
   "outputs": [
    {
     "name": "stdout",
     "output_type": "stream",
     "text": [
      "(2749356,)\n"
     ]
    },
    {
     "data": {
      "image/png": "[encoded data removed]",
      "text/plain": [
       "<Figure size 640x480 with 1 Axes>"
      ]
     },
     "metadata": {},
     "output_type": "display_data"
    }
   ],
   "source": [
    "\n",
    "##wav file bird audio\n",
    "from scipy.io.wavfile import read, write\n",
    "import io\n",
    "import matplotlib.pyplot as plt\n",
    "## This may look a bit intricate/useless, considering the fact that scipy's read() and write() function already return a\n",
    "## numpy ndarray, but the BytesIO \"hack\" may be useful in case you get the wav not through a file, but trough some websocket or\n",
    "## HTTP Post request. This should obviously work with any other sound format, as long as you have the proper decoding function\n",
    "\n",
    "with open(\"gn1.wav\", \"rb\") as wavfile:\n",
    "    input_wav = wavfile.read()\n",
    "\n",
    "# here, input_wav is a bytes object representing the wav object\n",
    "rate, data = read(io.BytesIO(input_wav))\n",
    "\n",
    "# data is a numpy ND array representing the audio data. Let's do some stuff with it\n",
    "reversed_data = data[::-1] #reversing it\n",
    "print(reversed_data.shape)\n",
    "extract=reversed_data[:30000]\n",
    "extract=extract.reshape(12,1,2500)\n",
    "plt.plot(reversed_data)\n",
    "plt.show()\n",
    "#then, let's save it to a BytesIO object, which is a buffer for bytes object\n",
    "bytes_wav = bytes()\n",
    "byte_io = io.BytesIO(bytes_wav)\n",
    "write(byte_io, rate, reversed_data)\n",
    "\n",
    "output_wav = byte_io.read()"
   ]
  },
  {
   "cell_type": "code",
   "execution_count": 28,
   "metadata": {},
   "outputs": [
    {
     "name": "stdout",
     "output_type": "stream",
     "text": [
      "(12510912, 2)\n"
     ]
    }
   ],
   "source": [
    "##mp3 piano\n",
    "import audio2numpy as a2n\n",
    "x,sr=a2n.audio_from_file(\"input.mp3\")\n",
    "print(x.shape)\n",
    "x1=x.flatten()\n",
    "x1=x1[:30000]\n"
   ]
  },
  {
   "cell_type": "code",
   "execution_count": 3,
   "metadata": {},
   "outputs": [],
   "source": [
    "extract=extract.reshape(12,2500)"
   ]
  },
  {
   "cell_type": "code",
   "execution_count": 4,
   "metadata": {},
   "outputs": [],
   "source": [
    "full=extract.reshape(12*2500)\n",
    "testing=full[:1200].reshape(1,100,12)"
   ]
  },
  {
   "cell_type": "code",
   "execution_count": 40,
   "metadata": {},
   "outputs": [
    {
     "name": "stdout",
     "output_type": "stream",
     "text": [
      "(511, 12)\n"
     ]
    }
   ],
   "source": [
    "extract=[]\n",
    "data1=pd.read_csv(\"data.csv\")\n",
    "print(data1.shape)"
   ]
  },
  {
   "cell_type": "code",
   "execution_count": 55,
   "metadata": {},
   "outputs": [],
   "source": [
    "extract=extract.reshape(12,1*400)"
   ]
  },
  {
   "cell_type": "code",
   "execution_count": 32,
   "metadata": {},
   "outputs": [
    {
     "name": "stdout",
     "output_type": "stream",
     "text": [
      "2.11.0\n"
     ]
    }
   ],
   "source": [
    "import tensorflow as tf\n",
    "from keras import layers, regularizers\n",
    "#from torch_two_sample.statistics_diff import MMDStatistic\n",
    "#import torch\n",
    "\n",
    "import matplotlib.pyplot as plt\n",
    "import numpy as np\n",
    "import random\n",
    "\n",
    "from IPython import display\n",
    "from tqdm import tqdm\n",
    "from shutil import copyfile\n",
    "scaler = MinMaxScaler()\n",
    "\n",
    "\n",
    "\n",
    "print(tf.__version__)\n",
    "\n",
    "\n",
    "# from google.colab import drive\n",
    "# drive.mount('/drive')\n",
    "\n",
    "\n",
    "norm_value = 10\n",
    "\n",
    "\n",
    "#################################################################################\n",
    "#          Helper functions\n",
    "#################################################################################\n",
    "def test_show(generator, discriminator):\n",
    "    noise = tf.random.normal([1, 125, 50])\n",
    "    generated_ecg = generator(noise, training=False)\n",
    "    print(generated_ecg.shape)\n",
    "    plt.plot(generated_ecg[0, 0, :])\n",
    "    plt.show()\n",
    "    \n",
    "    decision = discriminator(generated_ecg, training=False)\n",
    "    print(decision)\n",
    "    \n",
    "\n",
    "def generate_and_save_ecg(model, epoch, test_input, save):\n",
    "    predictions = model(test_input, training=False)\n",
    "\n",
    "    fig = plt.figure(figsize=(4,3))\n",
    "    plt.plot(predictions[0, 0, :] * norm_value)\n",
    "    # plt.plot(predictions[0, 0, :])\n",
    "    \n",
    "    if save:\n",
    "        plt.savefig('./ecg_at_epoch_{:04d}.png'.format(epoch))\n",
    "\n",
    "    plt.show()\n",
    "    \n",
    "\n",
    "def prepare_data(dim):\n",
    "#     copyfile(f\"/drive/My Drive/Colab Notebooks/data/fix_signals_400.npy\", \"./fix_signals.npy\")\n",
    "\n",
    "    #data = np.load('./data/00001.npy')\n",
    "    \n",
    "    data=np.array(x1)\n",
    "    print('Data shape:', data.shape)\n",
    "    #data = np.reshape(data, (data.shape[0], 1, data.shape[1]))\n",
    "    #print('Data shape:', data.shape)\n",
    "\n",
    "    #data = data / norm_value # Normalize\n",
    "    #data = preprocessing.normalize(data)\n",
    "    #scaled = scaler.fit_transform(data)\n",
    "    #data=scaled\n",
    "    data=data/norm_value\n",
    "    data = np.array(data, dtype='float32')\n",
    "    print(data.shape)\n",
    "    data=data.reshape(12,1,2500)\n",
    "    #plt.figure(figsize=(4,3))\n",
    "    #plt.plot(data[random.randint(0, data.shape[0])][0] * norm_value)\n",
    "    #plt.show()\n",
    "\n",
    "    train_size = int(data.shape[0] * 0.9)\n",
    "    test_size = data.shape[0] - train_size\n",
    "    print(\"train_size: \",train_size,\"test size: \",test_size)\n",
    "\n",
    "    # Batch and shuffle the data\n",
    "    train_dataset = tf.data.Dataset.from_tensor_slices(data[:train_size]).shuffle(train_size).batch(BATCH_SIZE)\n",
    "    test_dataset  = tf.data.Dataset.from_tensor_slices(data[train_size:]).shuffle(test_size).batch(1)\n",
    "\n",
    "    seed = tf.random.normal(dim)\n",
    "    #seed = tf.random.normal(dim)\n",
    "    print(\"train_dataset and test_dataset \",train_dataset,test_dataset)\n",
    "    \n",
    "    return seed, train_dataset, test_dataset"
   ]
  },
  {
   "cell_type": "code",
   "execution_count": 33,
   "metadata": {},
   "outputs": [],
   "source": [
    "k1.clear_session()"
   ]
  },
  {
   "cell_type": "code",
   "execution_count": 34,
   "metadata": {},
   "outputs": [
    {
     "name": "stdout",
     "output_type": "stream",
     "text": [
      "Model: \"sequential\"\n",
      "_________________________________________________________________\n",
      " Layer (type)                Output Shape              Param #   \n",
      "=================================================================\n",
      " bidirectional (Bidirectiona  (None, 100, 128)         39424     \n",
      " l)                                                              \n",
      "                                                                 \n",
      " conv1d (Conv1D)             (None, 100, 128)          262272    \n",
      "                                                                 \n",
      " leaky_re_lu (LeakyReLU)     (None, 100, 128)          0         \n",
      "                                                                 \n",
      " conv1d_1 (Conv1D)           (None, 100, 64)           131136    \n",
      "                                                                 \n",
      " leaky_re_lu_1 (LeakyReLU)   (None, 100, 64)           0         \n",
      "                                                                 \n",
      " up_sampling1d (UpSampling1D  (None, 500, 64)          0         \n",
      " )                                                               \n",
      "                                                                 \n",
      " conv1d_2 (Conv1D)           (None, 500, 32)           32800     \n",
      "                                                                 \n",
      " leaky_re_lu_2 (LeakyReLU)   (None, 500, 32)           0         \n",
      "                                                                 \n",
      " conv1d_3 (Conv1D)           (None, 500, 16)           8208      \n",
      "                                                                 \n",
      " leaky_re_lu_3 (LeakyReLU)   (None, 500, 16)           0         \n",
      "                                                                 \n",
      " up_sampling1d_1 (UpSampling  (None, 2500, 16)         0         \n",
      " 1D)                                                             \n",
      "                                                                 \n",
      " conv1d_4 (Conv1D)           (None, 2500, 1)           257       \n",
      "                                                                 \n",
      " permute (Permute)           (None, 1, 2500)           0         \n",
      "                                                                 \n",
      "=================================================================\n",
      "Total params: 474,097\n",
      "Trainable params: 474,097\n",
      "Non-trainable params: 0\n",
      "_________________________________________________________________\n",
      "Model: \"sequential_1\"\n",
      "_________________________________________________________________\n",
      " Layer (type)                Output Shape              Param #   \n",
      "=================================================================\n",
      " permute_1 (Permute)         (None, 2500, 1)           0         \n",
      "                                                                 \n",
      " conv1d_5 (Conv1D)           (None, 2500, 32)          544       \n",
      "                                                                 \n",
      " leaky_re_lu_4 (LeakyReLU)   (None, 2500, 32)          0         \n",
      "                                                                 \n",
      " dropout (Dropout)           (None, 2500, 32)          0         \n",
      "                                                                 \n",
      " conv1d_6 (Conv1D)           (None, 2500, 64)          32832     \n",
      "                                                                 \n",
      " leaky_re_lu_5 (LeakyReLU)   (None, 2500, 64)          0         \n",
      "                                                                 \n",
      " max_pooling1d (MaxPooling1D  (None, 1250, 64)         0         \n",
      " )                                                               \n",
      "                                                                 \n",
      " conv1d_7 (Conv1D)           (None, 1250, 128)         131200    \n",
      "                                                                 \n",
      " leaky_re_lu_6 (LeakyReLU)   (None, 1250, 128)         0         \n",
      "                                                                 \n",
      " dropout_1 (Dropout)         (None, 1250, 128)         0         \n",
      "                                                                 \n",
      " conv1d_8 (Conv1D)           (None, 1250, 256)         524544    \n",
      "                                                                 \n",
      " leaky_re_lu_7 (LeakyReLU)   (None, 1250, 256)         0         \n",
      "                                                                 \n",
      " max_pooling1d_1 (MaxPooling  (None, 625, 256)         0         \n",
      " 1D)                                                             \n",
      "                                                                 \n",
      " flatten (Flatten)           (None, 160000)            0         \n",
      "                                                                 \n",
      " dense (Dense)               (None, 1)                 160001    \n",
      "                                                                 \n",
      "=================================================================\n",
      "Total params: 849,121\n",
      "Trainable params: 849,121\n",
      "Non-trainable params: 0\n",
      "_________________________________________________________________\n"
     ]
    }
   ],
   "source": [
    "\n",
    "\n",
    "def make_generator_model():\n",
    "    model = tf.keras.Sequential()\n",
    "    model.add(layers.Input(shape=(100, 12)))\n",
    "\n",
    "    model.add(layers.Bidirectional(layers.LSTM(128, return_sequences=True)))\n",
    "\n",
    "    model.add(layers.Conv1D(filters=128, kernel_size=16, strides=1, padding='same'))\n",
    "    model.add(layers.LeakyReLU())\n",
    "  \n",
    "    model.add(layers.Conv1D(filters=64, kernel_size=16, strides=1, padding='same'))\n",
    "    model.add(layers.LeakyReLU())\n",
    "    \n",
    "    model.add(layers.UpSampling1D(5))\n",
    "    model.add(layers.Conv1D(filters=64, kernel_size=16, strides=1, padding='same'))\n",
    "    model.add(layers.LeakyReLU())\n",
    "    \n",
    "    model.add(layers.Conv1D(filters=32, kernel_size=16, strides=1, padding='same'))\n",
    "    model.add(layers.LeakyReLU())\n",
    "    \n",
    "    model.add(layers.Conv1D(filters=16, kernel_size=16, strides=1, padding='same'))\n",
    "    model.add(layers.LeakyReLU())\n",
    "\n",
    "    model.add(layers.UpSampling1D(5))\n",
    "    \n",
    "    model.add(layers.Conv1D(filters=1, kernel_size=16, strides=1, padding='same', activation='tanh'))\n",
    "    \n",
    "    model.add(layers.Permute((2, 1)))\n",
    "    \n",
    "    return model\n",
    "\n",
    "\n",
    "def make_discriminator_model():\n",
    "    model = tf.keras.Sequential()\n",
    "   \n",
    "    #model.add(layers.Input(shape=(1, 1000)))\n",
    "    model.add(layers.Permute((2, 1),input_shape=(1,2500)))\n",
    "    \n",
    "    model.add(layers.Conv1D(filters=32, kernel_size=16, strides=1, padding='same'))\n",
    "    model.add(layers.LeakyReLU())\n",
    "\n",
    "    model.add(layers.Dropout(0.4))\n",
    "\n",
    "    model.add(layers.Conv1D(filters=64, kernel_size=16, strides=1, padding='same'))\n",
    "    model.add(layers.LeakyReLU())\n",
    "\n",
    "    model.add(layers.MaxPool1D(pool_size=2))\n",
    "\n",
    "    model.add(layers.Conv1D(filters=128, kernel_size=16, strides=1, padding='same'))\n",
    "    model.add(layers.LeakyReLU())\n",
    "\n",
    "    model.add(layers.Dropout(0.4))\n",
    "\n",
    "    model.add(layers.Conv1D(filters=256, kernel_size=16, strides=1, padding='same'))\n",
    "    model.add(layers.LeakyReLU())\n",
    "\n",
    "    model.add(layers.MaxPool1D(pool_size=2))\n",
    "    model.add(layers.Conv1D(filters=256, kernel_size=16, strides=1, padding='same'))\n",
    "    model.add(layers.LeakyReLU())\n",
    "\n",
    "    model.add(layers.MaxPool1D(pool_size=2))\n",
    "\n",
    "    model.add(layers.Flatten())\n",
    "    model.add(layers.Dense(1))\n",
    "\n",
    "    return model\n",
    "\n",
    "generator     = make_generator_model()\n",
    "discriminator = make_discriminator_model()\n",
    "    \n",
    "generator.summary()\n",
    "discriminator.summary()\n"
   ]
  },
  {
   "attachments": {},
   "cell_type": "markdown",
   "metadata": {},
   "source": []
  },
  {
   "cell_type": "code",
   "execution_count": 43,
   "metadata": {},
   "outputs": [],
   "source": [
    "\n",
    "\"\"\"def make_generator_model():\n",
    "    model = tf.keras.Sequential()\n",
    "    model.add(layers.Input(shape=(100, 12)))\n",
    "\n",
    "    model.add(layers.Bidirectional(layers.LSTM(64, return_sequences=True)))\n",
    "\n",
    "    model.add(layers.Conv1D(filters=128, kernel_size=16, strides=1, padding='same'))\n",
    "    model.add(layers.LeakyReLU())\n",
    "  \n",
    "    model.add(layers.Conv1D(filters=64, kernel_size=16, strides=1, padding='same'))\n",
    "    model.add(layers.LeakyReLU())\n",
    "    \n",
    "    model.add(layers.UpSampling1D(2))\n",
    "    \n",
    "    model.add(layers.Conv1D(filters=32, kernel_size=16, strides=1, padding='same'))\n",
    "    model.add(layers.LeakyReLU())\n",
    "    model.add(layers.Conv1D(filters=32, kernel_size=16, strides=1, padding='same'))\n",
    "    model.add(layers.LeakyReLU())\n",
    "    #model.add(layers.Conv1D(filters=16, kernel_size=16, strides=1, padding='same'))\n",
    "    #model.add(layers.LeakyReLU())\n",
    "\n",
    "    model.add(layers.UpSampling1D(2))\n",
    "    \n",
    "    model.add(layers.Conv1D(filters=1, kernel_size=16, strides=1, padding='same', activation='tanh'))\n",
    "    \n",
    "    model.add(layers.Permute((2, 1)))\n",
    "    \n",
    "    return model\"\"\""
   ]
  },
  {
   "cell_type": "code",
   "execution_count": 44,
   "metadata": {},
   "outputs": [
    {
     "name": "stdout",
     "output_type": "stream",
     "text": [
      "Model: \"sequential\"\n",
      "_________________________________________________________________\n",
      " Layer (type)                Output Shape              Param #   \n",
      "=================================================================\n",
      " bidirectional (Bidirectiona  (None, 100, 128)         39424     \n",
      " l)                                                              \n",
      "                                                                 \n",
      " conv1d (Conv1D)             (None, 100, 128)          262272    \n",
      "                                                                 \n",
      " leaky_re_lu (LeakyReLU)     (None, 100, 128)          0         \n",
      "                                                                 \n",
      " conv1d_1 (Conv1D)           (None, 100, 64)           131136    \n",
      "                                                                 \n",
      " leaky_re_lu_1 (LeakyReLU)   (None, 100, 64)           0         \n",
      "                                                                 \n",
      " up_sampling1d (UpSampling1D  (None, 200, 64)          0         \n",
      " )                                                               \n",
      "                                                                 \n",
      " conv1d_2 (Conv1D)           (None, 200, 32)           32800     \n",
      "                                                                 \n",
      " leaky_re_lu_2 (LeakyReLU)   (None, 200, 32)           0         \n",
      "                                                                 \n",
      " conv1d_3 (Conv1D)           (None, 200, 32)           16416     \n",
      "                                                                 \n",
      " leaky_re_lu_3 (LeakyReLU)   (None, 200, 32)           0         \n",
      "                                                                 \n",
      " up_sampling1d_1 (UpSampling  (None, 400, 32)          0         \n",
      " 1D)                                                             \n",
      "                                                                 \n",
      " conv1d_4 (Conv1D)           (None, 400, 1)            513       \n",
      "                                                                 \n",
      " permute (Permute)           (None, 1, 400)            0         \n",
      "                                                                 \n",
      "=================================================================\n",
      "Total params: 482,561\n",
      "Trainable params: 482,561\n",
      "Non-trainable params: 0\n",
      "_________________________________________________________________\n",
      "Model: \"sequential_1\"\n",
      "_________________________________________________________________\n",
      " Layer (type)                Output Shape              Param #   \n",
      "=================================================================\n",
      " permute (Permute)           (None, 400, 1)            0         \n",
      "                                                                 \n",
      " conv1d (Conv1D)             (None, 400, 32)           544       \n",
      "                                                                 \n",
      " leaky_re_lu (LeakyReLU)     (None, 400, 32)           0         \n",
      "                                                                 \n",
      " dropout (Dropout)           (None, 400, 32)           0         \n",
      "                                                                 \n",
      " conv1d_1 (Conv1D)           (None, 400, 64)           32832     \n",
      "                                                                 \n",
      " leaky_re_lu_1 (LeakyReLU)   (None, 400, 64)           0         \n",
      "                                                                 \n",
      " max_pooling1d (MaxPooling1D  (None, 200, 64)          0         \n",
      " )                                                               \n",
      "                                                                 \n",
      " conv1d_2 (Conv1D)           (None, 200, 128)          131200    \n",
      "                                                                 \n",
      " leaky_re_lu_2 (LeakyReLU)   (None, 200, 128)          0         \n",
      "                                                                 \n",
      " conv1d_3 (Conv1D)           (None, 200, 128)          262272    \n",
      "                                                                 \n",
      " leaky_re_lu_3 (LeakyReLU)   (None, 200, 128)          0         \n",
      "                                                                 \n",
      " dropout_1 (Dropout)         (None, 200, 128)          0         \n",
      "                                                                 \n",
      " conv1d_4 (Conv1D)           (None, 200, 256)          524544    \n",
      "                                                                 \n",
      " leaky_re_lu_4 (LeakyReLU)   (None, 200, 256)          0         \n",
      "                                                                 \n",
      " max_pooling1d_1 (MaxPooling  (None, 100, 256)         0         \n",
      " 1D)                                                             \n",
      "                                                                 \n",
      " flatten (Flatten)           (None, 25600)             0         \n",
      "                                                                 \n",
      " dense (Dense)               (None, 1)                 25601     \n",
      "                                                                 \n",
      "=================================================================\n",
      "Total params: 976,993\n",
      "Trainable params: 976,993\n",
      "Non-trainable params: 0\n",
      "_________________________________________________________________\n"
     ]
    }
   ],
   "source": [
    "\"\"\"def make_discriminator_model():\n",
    "    model = tf.keras.Sequential()\n",
    "    clear_session()\n",
    "    model.add(layers.Input(shape=(1, 400)))\n",
    "    model.add(layers.Permute((2, 1)))\n",
    "    \n",
    "    model.add(layers.Conv1D(filters=32, kernel_size=16, strides=1, padding='same'))\n",
    "    model.add(layers.LeakyReLU())\n",
    "\n",
    "    model.add(layers.Dropout(0.4))\n",
    "\n",
    "    model.add(layers.Conv1D(filters=64, kernel_size=16, strides=1, padding='same'))\n",
    "    model.add(layers.LeakyReLU())\n",
    "\n",
    "    model.add(layers.MaxPool1D(pool_size=2))\n",
    "\n",
    "    model.add(layers.Conv1D(filters=128, kernel_size=16, strides=1, padding='same'))\n",
    "    model.add(layers.LeakyReLU())\n",
    "\n",
    "    model.add(layers.Conv1D(filters=128, kernel_size=16, strides=1, padding='same'))\n",
    "    model.add(layers.LeakyReLU())\n",
    "    model.add(layers.Dropout(0.4))#new one\n",
    "\n",
    "    model.add(layers.Conv1D(filters=256, kernel_size=16, strides=1, padding='same'))\n",
    "    model.add(layers.LeakyReLU())\n",
    "\n",
    "    model.add(layers.MaxPool1D(pool_size=2))\n",
    "\n",
    "    model.add(layers.Flatten())\n",
    "    model.add(layers.Dense(1))\n",
    "\n",
    "    return model\n",
    "\n",
    "generator     = make_generator_model()\n",
    "discriminator = make_discriminator_model()\n",
    "    \n",
    "generator.summary()\n",
    "discriminator.summary()\"\"\""
   ]
  },
  {
   "cell_type": "code",
   "execution_count": 35,
   "metadata": {},
   "outputs": [],
   "source": [
    "disc_losses = tf.keras.metrics.Mean('disc_loss', dtype=tf.float32)\n",
    "disc_losses_list = []\n",
    "\n",
    "fake_disc_accuracy = tf.keras.metrics.BinaryAccuracy('fake_disc_accuracy')\n",
    "real_disc_accuracy = tf.keras.metrics.BinaryAccuracy('real_disc_accuracy')\n",
    "fake_disc_accuracy_list, real_disc_accuracy_list = [], []\n",
    "\n",
    "### generator loss ###\n",
    "# gen_log_dir = 'logs/gradient_tape/gen_loss'\n",
    "# gen_summary_writer = tf.summary.create_file_writer(gen_log_dir)\n",
    "gen_losses = tf.keras.metrics.Mean('gen_loss', dtype=tf.float32)\n",
    "gen_losses_list = []\n",
    "\n",
    "\n",
    "#################################################################################\n",
    "#          Prepare loss functions and optimizers\n",
    "#################################################################################\n",
    "\n",
    "# This method returns a helper function to compute cross entropy loss\n",
    "cross_entropy = tf.keras.losses.BinaryCrossentropy(from_logits=True)\n",
    "\n",
    "def discriminator_loss(real_output, fake_output):\n",
    "    real_loss = cross_entropy(tf.ones_like(real_output), real_output)\n",
    "    fake_loss = cross_entropy(tf.zeros_like(fake_output), fake_output)\n",
    "    total_loss = real_loss + fake_loss\n",
    "    return total_loss\n",
    "\n",
    "def generator_loss(fake_output):\n",
    "    return cross_entropy(tf.ones_like(fake_output), fake_output)\n",
    "\n",
    "generator_optimizer = tf.keras.optimizers.Adam(0.0002)\n",
    "discriminator_optimizer = tf.keras.optimizers.Adam(0.0002)\n"
   ]
  },
  {
   "cell_type": "code",
   "execution_count": 36,
   "metadata": {},
   "outputs": [],
   "source": [
    "disc_steps = 1\n",
    "\n",
    "# Notice the use of `tf.function`\n",
    "# This annotation causes the function to be \"compiled\".\n",
    "@tf.function\n",
    "def train_step(real_ecg, dim):\n",
    "    noise = tf.random.normal(dim)\n",
    "    print(noise)\n",
    "    for i in range(disc_steps):\n",
    "        with tf.GradientTape() as disc_tape:\n",
    "            generated_ecg = generator(noise, training=True)\n",
    "            print(real_ecg,\"generated_ecg:\",generated_ecg)\n",
    "            real_output = discriminator(real_ecg, training=True)\n",
    "            fake_output = discriminator(generated_ecg, training=True)\n",
    "\n",
    "            disc_loss = discriminator_loss(real_output, fake_output)\n",
    "        \n",
    "        gradients_of_discriminator = disc_tape.gradient(disc_loss, discriminator.trainable_variables)\n",
    "        discriminator_optimizer.apply_gradients(zip(gradients_of_discriminator, discriminator.trainable_variables))\n",
    "        \n",
    "        ### for tensorboard ###\n",
    "        disc_losses.update_state(disc_loss)\n",
    "        fake_disc_accuracy.update_state(tf.zeros_like(fake_output), fake_output)\n",
    "        real_disc_accuracy.update_state(tf.ones_like(real_output), real_output)\n",
    "        #######################\n",
    "    \n",
    "    with tf.GradientTape() as gen_tape:\n",
    "        generated_ecg = generator(noise, training=True)\n",
    "        fake_output = discriminator(generated_ecg, training=True)\n",
    "\n",
    "        gen_loss = generator_loss(fake_output)\n",
    "    \n",
    "    gradients_of_generator = gen_tape.gradient(gen_loss, generator.trainable_variables)\n",
    "    generator_optimizer.apply_gradients(zip(gradients_of_generator, generator.trainable_variables))\n",
    "\n",
    "    ### for tensorboard ###\n",
    "    gen_losses.update_state(gen_loss)\n",
    "    #######################\n",
    "    \n",
    "\n",
    "def train(dataset, epochs, dim):\n",
    "    for epoch in tqdm(range(epochs)):\n",
    "    \n",
    "        for batch in dataset:\n",
    "            #print(batch)\n",
    "            train_step(batch, dim)\n",
    "            \n",
    "        disc_losses_list.append(disc_losses.result().numpy())\n",
    "        gen_losses_list.append(gen_losses.result().numpy())\n",
    "        \n",
    "        fake_disc_accuracy_list.append(fake_disc_accuracy.result().numpy())\n",
    "        real_disc_accuracy_list.append(real_disc_accuracy.result().numpy())\n",
    "        \n",
    "        ### for tensorboard ###\n",
    "        #      with disc_summary_writer.as_default():\n",
    "#             tf.summary.scalar('loss', disc_losses.result(), step=epoch)\n",
    "#             tf.summary.scalar('fake_accuracy', fake_disc_accuracy.result(), step=epoch)\n",
    "#             tf.summary.scalar('real_accuracy', real_disc_accuracy.result(), step=epoch)\n",
    "            \n",
    "#         with gen_summary_writer.as_default():\n",
    "#             tf.summary.scalar('loss', gen_losses.result(), step=epoch)\n",
    "            \n",
    "        disc_losses.reset_states()        \n",
    "        gen_losses.reset_states()\n",
    "        \n",
    "        fake_disc_accuracy.reset_states()\n",
    "        real_disc_accuracy.reset_states()\n",
    "        #######################\n",
    "\n",
    "        # Save the model every 5 epochs\n",
    "#         if (epoch + 1) % 5 == 0:\n",
    "#             generate_and_save_ecg(generator, epochs, seed, False)\n",
    "#             checkpoint.save(file_prefix = checkpoint_prefix)\n",
    "\n",
    "    # Generate after the final epoch\n",
    "    display.clear_output(wait=True)\n",
    "    generate_and_save_ecg(generator, epochs, seed, False)\n",
    "    "
   ]
  },
  {
   "cell_type": "code",
   "execution_count": 37,
   "metadata": {},
   "outputs": [
    {
     "name": "stdout",
     "output_type": "stream",
     "text": [
      "Data shape: (30000,)\n",
      "(30000,)\n",
      "train_size:  10 test size:  2\n",
      "train_dataset and test_dataset  <BatchDataset element_spec=TensorSpec(shape=(None, 1, 2500), dtype=tf.float32, name=None)> <BatchDataset element_spec=TensorSpec(shape=(None, 1, 2500), dtype=tf.float32, name=None)>\n"
     ]
    }
   ],
   "source": [
    "BATCH_SIZE = 10\n",
    "noise_dim = [BATCH_SIZE, 100, 12]\n",
    "\n",
    "seed, train_dataset, test_dataset = prepare_data(noise_dim)"
   ]
  },
  {
   "cell_type": "code",
   "execution_count": 38,
   "metadata": {},
   "outputs": [
    {
     "data": {
      "image/png": "[encoded data removed]",
      "text/plain": [
       "<Figure size 400x300 with 1 Axes>"
      ]
     },
     "metadata": {},
     "output_type": "display_data"
    }
   ],
   "source": [
    "train(train_dataset,10, noise_dim)"
   ]
  },
  {
   "cell_type": "code",
   "execution_count": 46,
   "metadata": {},
   "outputs": [
    {
     "data": {
      "image/png": "[encoded data removed]",
      "text/plain": [
       "<Figure size 640x480 with 1 Axes>"
      ]
     },
     "metadata": {},
     "output_type": "display_data"
    },
    {
     "name": "stdout",
     "output_type": "stream",
     "text": [
      "(30000,)\n"
     ]
    },
    {
     "data": {
      "image/png": "[encoded data removed]",
      "text/plain": [
       "<Figure size 640x480 with 1 Axes>"
      ]
     },
     "metadata": {},
     "output_type": "display_data"
    }
   ],
   "source": [
    "##piano graph\n",
    "x2=x1/norm_value\n",
    "plt.plot(x2)\n",
    "plt.show()\n",
    "print(x2.shape)\n",
    "x3=x2[28800:]\n",
    "x3=x3.reshape(1,100,12)\n",
    "prediction=generator(x3,training=False)\n",
    "plt.plot(prediction[0,0,:])\n",
    "plt.show()"
   ]
  },
  {
   "cell_type": "code",
   "execution_count": 56,
   "metadata": {},
   "outputs": [
    {
     "name": "stdout",
     "output_type": "stream",
     "text": [
      "48000\n"
     ]
    }
   ],
   "source": [
    "import io\n",
    "import wave\n",
    "\n",
    "import numpy as np\n",
    "import scipy.io.wavfile\n",
    "import soundfile as sf\n",
    "from scipy.io.wavfile import write\n",
    "def convert_bytearray_to_wav_ndarray(input_bytearray: bytes, sampling_rate=sr):\n",
    "    bytes_wav = bytes()\n",
    "    byte_io = io.BytesIO(bytes_wav)\n",
    "    write(byte_io, sampling_rate, np.frombuffer(input_bytearray, dtype=np.int16))\n",
    "    output_wav = byte_io.read()\n",
    "    output, samplerate = sf.read(io.BytesIO(output_wav))\n",
    "    return output,samplerate\n",
    "\n",
    "\n",
    "output,rate = convert_bytearray_to_wav_ndarray(input_bytearray=prediction[0,0,:])\n",
    "scipy.io.wavfile.write(\"output7.wav\",100,output)\n",
    "print(rate)"
   ]
  },
  {
   "cell_type": "code",
   "execution_count": 60,
   "metadata": {},
   "outputs": [],
   "source": [
    "import wave, struct, math, random\n",
    "sampleRate =1000 # hertz\n",
    "duration = 10 # seconds\n",
    "frequency = 440.0 # hertz\n",
    "obj = wave.open('sound.wav','w')\n",
    "obj.setnchannels(2) # mono\n",
    "obj.setsampwidth(2)\n",
    "obj.setframerate(sampleRate)\n",
    "for i in prediction[0,0,:2400]:\n",
    "   value = random.randint(-32767, 32767)\n",
    "   #data = struct.pack('<h', value)\n",
    "   obj.writeframesraw(i)\n",
    "obj.close()"
   ]
  },
  {
   "cell_type": "code",
   "execution_count": 16,
   "metadata": {},
   "outputs": [
    {
     "name": "stdout",
     "output_type": "stream",
     "text": [
      "WARNING:tensorflow:Compiled the loaded model, but the compiled metrics have yet to be built. `model.compile_metrics` will be empty until you train or evaluate the model.\n"
     ]
    }
   ],
   "source": [
    "from keras.models import load_model\n",
    "generator.save(\"generator_lstm_200.h5\")\n",
    "#\n"
   ]
  },
  {
   "cell_type": "code",
   "execution_count": 17,
   "metadata": {},
   "outputs": [
    {
     "name": "stdout",
     "output_type": "stream",
     "text": [
      "WARNING:tensorflow:No training configuration found in the save file, so the model was *not* compiled. Compile it manually.\n"
     ]
    }
   ],
   "source": [
    "gen=load_model(\"generator_lstm_200.h5\")"
   ]
  },
  {
   "cell_type": "code",
   "execution_count": 3,
   "metadata": {},
   "outputs": [
    {
     "name": "stdout",
     "output_type": "stream",
     "text": [
      "(511, 12)\n"
     ]
    }
   ],
   "source": [
    "dataset=pd.read_csv(\"data.csv\")\n",
    "print(dataset.shape)"
   ]
  },
  {
   "cell_type": "code",
   "execution_count": null,
   "metadata": {},
   "outputs": [],
   "source": []
  },
  {
   "cell_type": "code",
   "execution_count": 62,
   "metadata": {},
   "outputs": [
    {
     "name": "stdout",
     "output_type": "stream",
     "text": [
      "(1, 200, 12)\n"
     ]
    }
   ],
   "source": [
    "seed = tf.random.uniform([1,200, 12])\n",
    "print(seed.shape)\n",
    "#seed,seed2=seed1[:400],seed1[400:]\n",
    "\n"
   ]
  },
  {
   "cell_type": "code",
   "execution_count": 63,
   "metadata": {},
   "outputs": [],
   "source": [
    "seed=np.array(seed)"
   ]
  },
  {
   "cell_type": "code",
   "execution_count": 64,
   "metadata": {},
   "outputs": [],
   "source": [
    "seed_one=np.reshape(seed,(200*12,1))\n",
    "seed_final=seed_one[:1200]\n",
    "#seed_final=np.reshape(1,100,12)"
   ]
  },
  {
   "cell_type": "code",
   "execution_count": 65,
   "metadata": {},
   "outputs": [
    {
     "name": "stdout",
     "output_type": "stream",
     "text": [
      "(1200, 1) (2400, 1)\n"
     ]
    }
   ],
   "source": [
    "print(seed_final.shape,seed_one.shape)"
   ]
  },
  {
   "cell_type": "code",
   "execution_count": 67,
   "metadata": {},
   "outputs": [],
   "source": [
    "seed_final=np.reshape(seed_final,(1,100,12))"
   ]
  },
  {
   "cell_type": "code",
   "execution_count": 68,
   "metadata": {},
   "outputs": [
    {
     "name": "stdout",
     "output_type": "stream",
     "text": [
      "[[[0.21158957 0.7398728  0.19249523 ... 0.38959694 0.87776864 0.6835995 ]\n",
      "  [0.9472389  0.46206784 0.45498836 ... 0.9140618  0.25100112 0.16019726]\n",
      "  [0.5658382  0.59458053 0.4157735  ... 0.65428805 0.33774436 0.16359401]\n",
      "  ...\n",
      "  [0.5873147  0.7970419  0.08549261 ... 0.8365778  0.77265227 0.44700432]\n",
      "  [0.05331826 0.7469349  0.8221005  ... 0.75647676 0.53188527 0.55915725]\n",
      "  [0.6501672  0.01676774 0.4511032  ... 0.63914025 0.5457082  0.96260643]]]\n"
     ]
    }
   ],
   "source": [
    "print(seed_final)"
   ]
  },
  {
   "cell_type": "code",
   "execution_count": 18,
   "metadata": {},
   "outputs": [
    {
     "name": "stdout",
     "output_type": "stream",
     "text": [
      "(1, 100, 12)\n",
      "seed data (1, 100, 12)\n"
     ]
    }
   ],
   "source": [
    "print(testing.shape)\n",
    "print(\"seed data\",testing.shape)\n",
    "ecg = gen(testing, training=False)\n"
   ]
  },
  {
   "cell_type": "code",
   "execution_count": 19,
   "metadata": {},
   "outputs": [
    {
     "name": "stdout",
     "output_type": "stream",
     "text": [
      "[[[ 7  7  2 ...  1  0  0]\n",
      "  [-1 -1 -1 ... -2 -2 -2]\n",
      "  [-5 -5 -4 ... -6 -6 -6]\n",
      "  ...\n",
      "  [-5 -5  3 ... 26 29 29]\n",
      "  [33 33 38 ... 49 48 48]\n",
      "  [48 48 51 ... 42 34 34]]]\n"
     ]
    }
   ],
   "source": [
    "print(testing)"
   ]
  },
  {
   "cell_type": "code",
   "execution_count": 20,
   "metadata": {},
   "outputs": [
    {
     "name": "stdout",
     "output_type": "stream",
     "text": [
      "(2500,) (1, 1, 2500)\n"
     ]
    },
    {
     "data": {
      "image/png": "[encoded data removed]",
      "text/plain": [
       "<Figure size 400x300 with 1 Axes>"
      ]
     },
     "metadata": {},
     "output_type": "display_data"
    }
   ],
   "source": [
    "print(ecg[0,0,:].shape,ecg.shape)\n",
    "fig = plt.figure(figsize=(4,3))\n",
    "plt.plot(ecg[0, 0, :] * norm_value)\n",
    "plt.show()"
   ]
  },
  {
   "cell_type": "code",
   "execution_count": 227,
   "metadata": {},
   "outputs": [
    {
     "name": "stdout",
     "output_type": "stream",
     "text": [
      "(2500,)\n"
     ]
    },
    {
     "ename": "ValueError",
     "evalue": "Expected 2D array, got 1D array instead:\narray=[64.80119324 51.80659485 67.71992493 ... 51.37229156 28.00136185\n 30.7250061 ].\nReshape your data either using array.reshape(-1, 1) if your data has a single feature or array.reshape(1, -1) if it contains a single sample.",
     "output_type": "error",
     "traceback": [
      "\u001b[0;31m---------------------------------------------------------------------------\u001b[0m",
      "\u001b[0;31mValueError\u001b[0m                                Traceback (most recent call last)",
      "Cell \u001b[0;32mIn[227], line 3\u001b[0m\n\u001b[1;32m      1\u001b[0m ecg_reshape\u001b[39m=\u001b[39mecg[\u001b[39m0\u001b[39m,\u001b[39m0\u001b[39m,:]\u001b[39m*\u001b[39m\u001b[39m100\u001b[39m\n\u001b[1;32m      2\u001b[0m \u001b[39mprint\u001b[39m(ecg_reshape\u001b[39m.\u001b[39mshape)\n\u001b[0;32m----> 3\u001b[0m ecg1\u001b[39m=\u001b[39mscaler\u001b[39m.\u001b[39;49minverse_transform(ecg_reshape)\n\u001b[1;32m      4\u001b[0m \u001b[39mprint\u001b[39m(ecg1)\n\u001b[1;32m      5\u001b[0m fig \u001b[39m=\u001b[39m plt\u001b[39m.\u001b[39mfigure(figsize\u001b[39m=\u001b[39m(\u001b[39m4\u001b[39m,\u001b[39m3\u001b[39m))\n",
      "File \u001b[0;32m~/.local/lib/python3.8/site-packages/sklearn/preprocessing/_data.py:537\u001b[0m, in \u001b[0;36mMinMaxScaler.inverse_transform\u001b[0;34m(self, X)\u001b[0m\n\u001b[1;32m    523\u001b[0m \u001b[39m\u001b[39m\u001b[39m\"\"\"Undo the scaling of X according to feature_range.\u001b[39;00m\n\u001b[1;32m    524\u001b[0m \n\u001b[1;32m    525\u001b[0m \u001b[39mParameters\u001b[39;00m\n\u001b[0;32m   (...)\u001b[0m\n\u001b[1;32m    533\u001b[0m \u001b[39m    Transformed data.\u001b[39;00m\n\u001b[1;32m    534\u001b[0m \u001b[39m\"\"\"\u001b[39;00m\n\u001b[1;32m    535\u001b[0m check_is_fitted(\u001b[39mself\u001b[39m)\n\u001b[0;32m--> 537\u001b[0m X \u001b[39m=\u001b[39m check_array(\n\u001b[1;32m    538\u001b[0m     X, copy\u001b[39m=\u001b[39;49m\u001b[39mself\u001b[39;49m\u001b[39m.\u001b[39;49mcopy, dtype\u001b[39m=\u001b[39;49mFLOAT_DTYPES, force_all_finite\u001b[39m=\u001b[39;49m\u001b[39m\"\u001b[39;49m\u001b[39mallow-nan\u001b[39;49m\u001b[39m\"\u001b[39;49m\n\u001b[1;32m    539\u001b[0m )\n\u001b[1;32m    541\u001b[0m X \u001b[39m-\u001b[39m\u001b[39m=\u001b[39m \u001b[39mself\u001b[39m\u001b[39m.\u001b[39mmin_\n\u001b[1;32m    542\u001b[0m X \u001b[39m/\u001b[39m\u001b[39m=\u001b[39m \u001b[39mself\u001b[39m\u001b[39m.\u001b[39mscale_\n",
      "File \u001b[0;32m~/.local/lib/python3.8/site-packages/sklearn/utils/validation.py:900\u001b[0m, in \u001b[0;36mcheck_array\u001b[0;34m(array, accept_sparse, accept_large_sparse, dtype, order, copy, force_all_finite, ensure_2d, allow_nd, ensure_min_samples, ensure_min_features, estimator, input_name)\u001b[0m\n\u001b[1;32m    898\u001b[0m     \u001b[39m# If input is 1D raise error\u001b[39;00m\n\u001b[1;32m    899\u001b[0m     \u001b[39mif\u001b[39;00m array\u001b[39m.\u001b[39mndim \u001b[39m==\u001b[39m \u001b[39m1\u001b[39m:\n\u001b[0;32m--> 900\u001b[0m         \u001b[39mraise\u001b[39;00m \u001b[39mValueError\u001b[39;00m(\n\u001b[1;32m    901\u001b[0m             \u001b[39m\"\u001b[39m\u001b[39mExpected 2D array, got 1D array instead:\u001b[39m\u001b[39m\\n\u001b[39;00m\u001b[39marray=\u001b[39m\u001b[39m{}\u001b[39;00m\u001b[39m.\u001b[39m\u001b[39m\\n\u001b[39;00m\u001b[39m\"\u001b[39m\n\u001b[1;32m    902\u001b[0m             \u001b[39m\"\u001b[39m\u001b[39mReshape your data either using array.reshape(-1, 1) if \u001b[39m\u001b[39m\"\u001b[39m\n\u001b[1;32m    903\u001b[0m             \u001b[39m\"\u001b[39m\u001b[39myour data has a single feature or array.reshape(1, -1) \u001b[39m\u001b[39m\"\u001b[39m\n\u001b[1;32m    904\u001b[0m             \u001b[39m\"\u001b[39m\u001b[39mif it contains a single sample.\u001b[39m\u001b[39m\"\u001b[39m\u001b[39m.\u001b[39mformat(array)\n\u001b[1;32m    905\u001b[0m         )\n\u001b[1;32m    907\u001b[0m \u001b[39mif\u001b[39;00m dtype_numeric \u001b[39mand\u001b[39;00m array\u001b[39m.\u001b[39mdtype\u001b[39m.\u001b[39mkind \u001b[39min\u001b[39;00m \u001b[39m\"\u001b[39m\u001b[39mUSV\u001b[39m\u001b[39m\"\u001b[39m:\n\u001b[1;32m    908\u001b[0m     \u001b[39mraise\u001b[39;00m \u001b[39mValueError\u001b[39;00m(\n\u001b[1;32m    909\u001b[0m         \u001b[39m\"\u001b[39m\u001b[39mdtype=\u001b[39m\u001b[39m'\u001b[39m\u001b[39mnumeric\u001b[39m\u001b[39m'\u001b[39m\u001b[39m is not compatible with arrays of bytes/strings.\u001b[39m\u001b[39m\"\u001b[39m\n\u001b[1;32m    910\u001b[0m         \u001b[39m\"\u001b[39m\u001b[39mConvert your data to numeric values explicitly instead.\u001b[39m\u001b[39m\"\u001b[39m\n\u001b[1;32m    911\u001b[0m     )\n",
      "\u001b[0;31mValueError\u001b[0m: Expected 2D array, got 1D array instead:\narray=[64.80119324 51.80659485 67.71992493 ... 51.37229156 28.00136185\n 30.7250061 ].\nReshape your data either using array.reshape(-1, 1) if your data has a single feature or array.reshape(1, -1) if it contains a single sample."
     ]
    }
   ],
   "source": [
    "ecg_reshape=ecg[0,0,:]*100\n",
    "print(ecg_reshape.shape)\n",
    "ecg1=scaler.inverse_transform(ecg_reshape)\n",
    "print(ecg1)\n",
    "fig = plt.figure(figsize=(4,3))\n",
    "plt.plot(ecg_reshape)\n",
    "plt.show()"
   ]
  },
  {
   "cell_type": "code",
   "execution_count": 226,
   "metadata": {},
   "outputs": [
    {
     "name": "stdout",
     "output_type": "stream",
     "text": [
      "tf.Tensor([64.80119  51.806595 67.719925 ... 51.37229  28.001362 30.725006], shape=(2500,), dtype=float32)\n"
     ]
    }
   ],
   "source": [
    "print(ecg_reshape)"
   ]
  },
  {
   "cell_type": "code",
   "execution_count": 233,
   "metadata": {},
   "outputs": [
    {
     "name": "stdout",
     "output_type": "stream",
     "text": [
      "16000\n"
     ]
    }
   ],
   "source": [
    "import io\n",
    "import wave\n",
    "\n",
    "import numpy as np\n",
    "import scipy.io.wavfile\n",
    "import soundfile as sf\n",
    "from scipy.io.wavfile import write\n",
    "def convert_bytearray_to_wav_ndarray(input_bytearray: bytes, sampling_rate=16000):\n",
    "    bytes_wav = bytes()\n",
    "    byte_io = io.BytesIO(bytes_wav)\n",
    "    write(byte_io, sampling_rate, np.frombuffer(input_bytearray, dtype=np.int16))\n",
    "    output_wav = byte_io.read()\n",
    "    output, samplerate = sf.read(io.BytesIO(output_wav))\n",
    "    return output,samplerate\n",
    "\n",
    "\n",
    "output,rate = convert_bytearray_to_wav_ndarray(input_bytearray=ecg_reshape)\n",
    "scipy.io.wavfile.write(\"output6.wav\",500,output)\n",
    "print(rate)"
   ]
  },
  {
   "cell_type": "code",
   "execution_count": 40,
   "metadata": {},
   "outputs": [
    {
     "data": {
      "image/png": "[encoded data removed]",
      "text/plain": [
       "<Figure size 1200x800 with 2 Axes>"
      ]
     },
     "metadata": {},
     "output_type": "display_data"
    }
   ],
   "source": [
    "fig, axes = plt.subplots(2, figsize=(12, 8))\n",
    "fig.suptitle('Training Metrics')\n",
    "\n",
    "axes[0].set_ylabel(\"Losses\", fontsize=14)\n",
    "axes[0].set_xlabel(\"Epoch\", fontsize=14)\n",
    "axes[0].plot(disc_losses_list, color='red')\n",
    "axes[0].plot(gen_losses_list, color='blue')\n",
    "\n",
    "axes[1].set_ylabel(\"Accuracy\", fontsize=14)\n",
    "axes[1].set_xlabel(\"Epoch\", fontsize=14)\n",
    "axes[1].plot(fake_disc_accuracy_list, color='red')\n",
    "axes[1].plot(real_disc_accuracy_list, color='blue')\n",
    "plt.show()"
   ]
  },
  {
   "cell_type": "code",
   "execution_count": 71,
   "metadata": {},
   "outputs": [
    {
     "name": "stdout",
     "output_type": "stream",
     "text": [
      "(400, 1)\n"
     ]
    }
   ],
   "source": [
    "seed_400=seed_one[1200:1600]\n",
    "print(seed_400.shape)\n",
    "seed_400=seed_400.reshape(1,1,400)"
   ]
  },
  {
   "cell_type": "code",
   "execution_count": 72,
   "metadata": {},
   "outputs": [
    {
     "data": {
      "image/png": "[encoded data removed]",
      "text/plain": [
       "<Figure size 400x300 with 1 Axes>"
      ]
     },
     "metadata": {},
     "output_type": "display_data"
    }
   ],
   "source": [
    "#print(seed2)\n",
    "fig = plt.figure(figsize=(4,3))\n",
    "plt.plot(seed_400[0,0,:]*norm_value)\n",
    "plt.show()"
   ]
  },
  {
   "cell_type": "code",
   "execution_count": null,
   "metadata": {},
   "outputs": [],
   "source": []
  }
 ],
 "metadata": {
  "kernelspec": {
   "display_name": "Python 3",
   "language": "python",
   "name": "python3"
  },
  "language_info": {
   "codemirror_mode": {
    "name": "ipython",
    "version": 3
   },
   "file_extension": ".py",
   "mimetype": "text/x-python",
   "name": "python",
   "nbconvert_exporter": "python",
   "pygments_lexer": "ipython3",
   "version": "3.8.10 (default, Nov 14 2022, 12:59:47) \n[GCC 9.4.0]"
  },
  "orig_nbformat": 4,
  "vscode": {
   "interpreter": {
    "hash": "916dbcbb3f70747c44a77c7bcd40155683ae19c65e1c03b4aa3499c5328201f1"
   }
  }
 },
 "nbformat": 4,
 "nbformat_minor": 2
}
